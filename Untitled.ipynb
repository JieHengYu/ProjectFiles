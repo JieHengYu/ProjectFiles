{
 "cells": [
  {
   "cell_type": "markdown",
   "id": "e423dbe4-caa8-4e27-8ebd-cbd7765275c4",
   "metadata": {},
   "source": [
    "# Advanced markdown styling"
   ]
  },
  {
   "cell_type": "markdown",
   "id": "b1333225-bda5-467b-b253-a3a0c4f0f9de",
   "metadata": {},
   "source": [
    "You can write HTML code in your Markdown cells, meaning you can embed links."
   ]
  },
  {
   "cell_type": "markdown",
   "id": "b16329fc-1017-4917-9012-8e9eca189fb6",
   "metadata": {},
   "source": [
    "<a href = \"https://frogtoad.shinyapps.io/Anorexia-Data_on_Weight_Change/?_ga=2.257457163.1499031889.1650821949-747662524.1650821949\"> Anorexia Shiny Application </a>"
   ]
  },
  {
   "cell_type": "markdown",
   "id": "5cb57915-555c-4120-89ec-d21efc97d061",
   "metadata": {},
   "source": [
    "The above is a hyperlink to a created Shiny app that appears as **Anorexia Shiny Application**."
   ]
  },
  {
   "cell_type": "markdown",
   "id": "d7360d2b-e8f3-43bc-b926-74fa26b16c8f",
   "metadata": {},
   "source": [
    "We can also create HTML tables."
   ]
  },
  {
   "cell_type": "markdown",
   "id": "ee7a5084-0d28-4e7b-ac7b-4ade458409c6",
   "metadata": {},
   "source": [
    "|Group 1|Group 2|Group 3|Group 4|\n",
    "|:---:|:---:|:---:|:---:|\n",
    "|a|c|e|g|\n",
    "|b|d|f|h|"
   ]
  },
  {
   "cell_type": "code",
   "execution_count": null,
   "id": "00cc9a8d-9e4c-4c3e-bf1d-82bdac21cf14",
   "metadata": {},
   "outputs": [],
   "source": []
  }
 ],
 "metadata": {
  "kernelspec": {
   "display_name": "Python 3 (ipykernel)",
   "language": "python",
   "name": "python3"
  },
  "language_info": {
   "codemirror_mode": {
    "name": "ipython",
    "version": 3
   },
   "file_extension": ".py",
   "mimetype": "text/x-python",
   "name": "python",
   "nbconvert_exporter": "python",
   "pygments_lexer": "ipython3",
   "version": "3.9.7"
  }
 },
 "nbformat": 4,
 "nbformat_minor": 5
}
